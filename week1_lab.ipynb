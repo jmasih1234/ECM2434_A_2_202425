{
  "cells": [
    {
      "cell_type": "markdown",
      "metadata": {
        "id": "view-in-github",
        "colab_type": "text"
      },
      "source": [
        "<a href=\"https://colab.research.google.com/github/jmasih1234/ECM2434_A_2_202425/blob/main/week1_lab.ipynb\" target=\"_parent\"><img src=\"https://colab.research.google.com/assets/colab-badge.svg\" alt=\"Open In Colab\"/></a>"
      ]
    },
    {
      "cell_type": "markdown",
      "id": "5fb31177",
      "metadata": {
        "id": "5fb31177"
      },
      "source": [
        "# Brief Introduction to Python and Jupyter Notebooks\n",
        "Welcome to the first lab!\n",
        "Labs are available to:\n",
        "- provide information - like this notebook\n",
        "- reinforce lecture material with hands-on examples\n",
        "- provide working examples of routines used in the graded labs\n",
        "\n",
        "\n",
        "\n",
        "\n",
        "---\n",
        "<font color='red'>WARNING: PLEASE SAVE AS A COPY BEFORE MAKING ANY CHANGES!</font>\n",
        "<font color='red'>YOUR PROGRESS MIGHT BE LOST...😭🙏💀</font>\n",
        "---\n",
        "\n",
        "\n",
        "\n"
      ]
    },
    {
      "cell_type": "markdown",
      "id": "09b5e9bc",
      "metadata": {
        "id": "09b5e9bc"
      },
      "source": [
        "## Goals\n",
        "In this lab, you will:\n",
        "- Get a brief introduction to Jupyter notebooks\n",
        "- Take a tour of Jupyter notebooks\n",
        "- Learn the difference between markdown cells and code cells\n",
        "- Practice some basic python\n"
      ]
    },
    {
      "cell_type": "markdown",
      "id": "0f899e2f",
      "metadata": {
        "id": "0f899e2f"
      },
      "source": [
        "Jupyter notebooks have two types of cells that are used in this course. Cells such as this which contain documentation called `Markdown Cells`. The name is derived from the simple formatting language used in the cells. You will not be required to produce markdown cells. Its useful to understand the `cell pulldown` shown in graphic below. Occasionally, a cell will end up in the wrong mode and you may need to restore it to the right state:"
      ]
    },
    {
      "cell_type": "markdown",
      "id": "34d64fe4",
      "metadata": {
        "id": "34d64fe4"
      },
      "source": [
        "The other type of cell is the `code cell` where you will write your code:"
      ]
    },
    {
      "cell_type": "code",
      "execution_count": null,
      "id": "0cdea111",
      "metadata": {
        "id": "0cdea111"
      },
      "outputs": [],
      "source": [
        "#This is  a 'Code' Cell\n",
        "print(\"This is  code cell\")"
      ]
    },
    {
      "cell_type": "markdown",
      "id": "61f8cbae",
      "metadata": {
        "id": "61f8cbae"
      },
      "source": [
        "## Python\n",
        "You can write your code in the code cells.\n",
        "To run the code, select the cell and either\n",
        "- hold the shift-key down and hit 'enter' or 'return'\n",
        "- click the 'run' arrow above\n",
        "![image.png](attachment:image.png)\n",
        "\n"
      ]
    },
    {
      "cell_type": "markdown",
      "id": "9768e626",
      "metadata": {
        "id": "9768e626"
      },
      "source": [
        "### Print statement\n",
        "Print statements will generally use the python f-string style.  \n",
        "Try creating your own print in the following cell.  \n",
        "Try both methods of running the cell."
      ]
    },
    {
      "cell_type": "code",
      "execution_count": null,
      "id": "c0615825",
      "metadata": {
        "id": "c0615825"
      },
      "outputs": [],
      "source": [
        "# print statements\n",
        "variable = \"right in the strings!\"\n",
        "print(f\"f strings allow you to embed variables {variable}\")"
      ]
    },
    {
      "cell_type": "markdown",
      "id": "75f4cbb8",
      "metadata": {
        "id": "75f4cbb8"
      },
      "source": [
        "# Congratulations!\n",
        "You now know how to find your way around a Jupyter Notebook."
      ]
    },
    {
      "cell_type": "markdown",
      "id": "ef2329fe",
      "metadata": {
        "id": "ef2329fe"
      },
      "source": [
        "# Practice Lab: Model Representation"
      ]
    },
    {
      "cell_type": "markdown",
      "id": "8123909d",
      "metadata": {
        "id": "8123909d"
      },
      "source": [
        "## Goals\n",
        "In this lab you will:\n",
        "- Learn to implement the model $f_{w,b}$ for linear regression with one variable"
      ]
    },
    {
      "cell_type": "markdown",
      "id": "4aac685a",
      "metadata": {
        "id": "4aac685a"
      },
      "source": [
        "## Notation\n",
        "Here is a summary of some of the notation you will encounter.  \n",
        "\n",
        "| General Notation       | Description                                                                 | Python  |\n",
        "|------------------------|-----------------------------------------------------------------------------|------------------------|\n",
        "| $a$                    | Scalar, non-bold                                                            |                        |\n",
        "| $\\mathbf{a}$           | Vector, bold                                                                |                        |\n",
        "| $\\mathbf{x}$           | Training example feature values (in this lab - Size (1000 sqft))            | `x_train`              |\n",
        "| $\\mathbf{y}$           | Training example targets (in this lab - Price (1000s of dollars))           | `y_train`              |\n",
        "| $x^{(i)}$, $y^{(i)}$   | $i_{th}$ training example                                                   | `x_i`, `y_i`           |\n",
        "| $m$                    | Number of training examples                                                 | `m`                    |\n",
        "| $w$                    | Parameter: weight                                                           | `w`                    |\n",
        "| $b$                    | Parameter: bias                                                             | `b`                    |\n",
        "| $f_{w,b}(x^{(i)})$     | Result of model evaluation at $x^{(i)}$, parameterized by $w,b$: $wx^{(i)}+b$ | `f_wb`                 |\n"
      ]
    },
    {
      "cell_type": "markdown",
      "id": "858b876e",
      "metadata": {
        "id": "858b876e"
      },
      "source": [
        "## Tools\n",
        "In this lab you will make use of:\n",
        "- NumPy, a popular library for scientific computing\n",
        "- Matplotlib, a popular library for plotting data"
      ]
    },
    {
      "cell_type": "code",
      "execution_count": null,
      "id": "bb1dc639",
      "metadata": {
        "id": "bb1dc639"
      },
      "outputs": [],
      "source": [
        "import numpy as np\n",
        "import matplotlib.pyplot as plt"
      ]
    },
    {
      "cell_type": "markdown",
      "id": "7522529b",
      "metadata": {
        "id": "7522529b"
      },
      "source": [
        "# Problem Statement\n",
        "\n",
        "As in the lecture, you will use the motivating example of housing price prediction.  \n",
        "This lab will use a simple data set with only two data points - a house with 1000 square feet(sqft) sold for $300,000 and a house with 2000 square feet sold for $500,000. These two points will constitute our *data or training set*. In this lab, the units of size are 1000 sqft and the units of price are 1000s of dollars.\n",
        "\n",
        "| Size (1000 sqft)     | Price (1000s of dollars) |\n",
        "| -------------------| ------------------------ |\n",
        "| 1.0               | 300                      |\n",
        "| 2.0               | 500                      |\n",
        "\n",
        "You would like to fit a linear regression model (shown above as the blue straight line) through these two points, so you can then predict price for other houses - say, a house with 1200 sqft.\n"
      ]
    },
    {
      "cell_type": "markdown",
      "id": "69ea1f72",
      "metadata": {
        "id": "69ea1f72"
      },
      "source": [
        "Please run the following code cell to create your `x_train` and `y_train` variables. The data is stored in one-dimensional NumPy arrays."
      ]
    },
    {
      "cell_type": "code",
      "execution_count": null,
      "id": "4f77e8da",
      "metadata": {
        "id": "4f77e8da"
      },
      "outputs": [],
      "source": [
        "# x_train is the input variable (size in 1000 square feet)\n",
        "# y_train is the target (price in 1000s of dollars)\n",
        "x_train = np.array([1.0, 2.0])\n",
        "y_train = np.array([300.0, 500.0])\n",
        "print(f\"x_train = {x_train}\")\n",
        "print(f\"y_train = {y_train}\")"
      ]
    },
    {
      "cell_type": "markdown",
      "id": "4bbe78ac",
      "metadata": {
        "id": "4bbe78ac"
      },
      "source": [
        ">**Note**: The course will frequently utilize the python 'f-string' output formatting described [here](https://docs.python.org/3/tutorial/inputoutput.html) when printing. The content between the curly braces is evaluated when producing the output."
      ]
    },
    {
      "cell_type": "markdown",
      "id": "a70efe03",
      "metadata": {
        "id": "a70efe03"
      },
      "source": [
        "### Number of training examples `m`\n",
        "You will use `m` to denote the number of training examples. Numpy arrays have a `.shape` parameter. `x_train.shape` returns a python tuple with an entry for each dimension. `x_train.shape[0]` is the length of the array and number of examples as shown below."
      ]
    },
    {
      "cell_type": "code",
      "execution_count": null,
      "id": "d8b163c3",
      "metadata": {
        "id": "d8b163c3"
      },
      "outputs": [],
      "source": [
        "# m is the number of training examples\n",
        "print(f\"x_train.shape: {x_train.shape}\")\n",
        "m = x_train.shape[0]\n",
        "print(f\"Number of training examples is: {m}\")"
      ]
    },
    {
      "cell_type": "markdown",
      "id": "2b215668",
      "metadata": {
        "id": "2b215668"
      },
      "source": [
        "One can also use the Python `len()` function as shown below."
      ]
    },
    {
      "cell_type": "code",
      "execution_count": null,
      "id": "03fb1736",
      "metadata": {
        "id": "03fb1736"
      },
      "outputs": [],
      "source": [
        "# m is the number of training examples\n",
        "m = len(x_train)\n",
        "print(f\"Number of training examples is: {m}\")"
      ]
    },
    {
      "cell_type": "markdown",
      "id": "bda40981",
      "metadata": {
        "id": "bda40981"
      },
      "source": [
        "### Training example `x_i, y_i`\n",
        "\n",
        "You will use ($x{(i)}$, $y^{(i)}$) to denote the $i^{th}$ training example. Since Python is zero indexed, ($x^{(0)}$, $y^{(0)}$) is (1.0, 300.0) and ($x^{(1)}$, $y^{(1)}$) is (2.0, 500.0).\n",
        "\n",
        "To access a value in a Numpy array, one indexes the array with the desired offset. For example the syntax to access location zero of `x_train` is `x_train[0]`.\n",
        "Run the next code block below to get the $i^{th}$ training example."
      ]
    },
    {
      "cell_type": "code",
      "execution_count": null,
      "id": "b15c7e33",
      "metadata": {
        "id": "b15c7e33"
      },
      "outputs": [],
      "source": [
        "i = 0 # Change this to 1 to see (x^1, y^1)\n",
        "\n",
        "x_i = x_train[i]\n",
        "y_i = y_train[i]\n",
        "print(f\"(x^({i}), y^({i})) = ({x_i}, {y_i})\")"
      ]
    },
    {
      "cell_type": "markdown",
      "id": "74b617fc",
      "metadata": {
        "id": "74b617fc"
      },
      "source": [
        "### Plotting the data"
      ]
    },
    {
      "cell_type": "markdown",
      "id": "6288cfa7",
      "metadata": {
        "id": "6288cfa7"
      },
      "source": [
        "You can plot these two points using the `scatter()` function in the `matplotlib` library, as shown in the cell below.\n",
        "- The function arguments `marker` and `c` show the points as red crosses (the default is blue dots).\n",
        "\n",
        "You can use other functions in the `matplotlib` library to set the title and labels to display"
      ]
    },
    {
      "cell_type": "code",
      "execution_count": null,
      "id": "27a1c325",
      "metadata": {
        "id": "27a1c325"
      },
      "outputs": [],
      "source": [
        "# Plot the data points\n",
        "plt.scatter(x_train, y_train, marker='x', c='r')\n",
        "# Set the title\n",
        "plt.title(\"Housing Prices\")\n",
        "# Set the y-axis label\n",
        "plt.ylabel('Price (in 1000s of dollars)')\n",
        "# Set the x-axis label\n",
        "plt.xlabel('Size (1000 sqft)')\n",
        "plt.show()"
      ]
    },
    {
      "cell_type": "markdown",
      "id": "125db493",
      "metadata": {
        "id": "125db493"
      },
      "source": [
        "## Model function\n",
        "\n",
        "As described in lecture, the model function for linear regression (which is a function that maps from `x` to `y`) is represented as\n",
        "\n",
        "$$ f_{w,b}(x^{(i)}) = wx^{(i)} + b \\tag{1}$$\n",
        "\n",
        "The formula above is how you can represent straight lines - different values of $w$ and $b$ give you different straight lines on the plot. <br/> <br/> <br/> <br/> <br/>\n",
        "\n",
        "Let's try to get a better intuition for this through the code blocks below. Let's start with $w = 100$ and $b = 100$.\n",
        "\n",
        "**Note: You can come back to this cell to adjust the model's w and b parameters**"
      ]
    },
    {
      "cell_type": "code",
      "execution_count": null,
      "id": "bd568055",
      "metadata": {
        "id": "bd568055"
      },
      "outputs": [],
      "source": [
        "w = 100\n",
        "b = 100\n",
        "print(f\"w: {w}\")\n",
        "print(f\"b: {b}\")"
      ]
    },
    {
      "cell_type": "markdown",
      "id": "632f1c37",
      "metadata": {
        "id": "632f1c37"
      },
      "source": [
        "Now, let's compute the value of $f_{w,b}(x^{(i)})$ for your two data points. You can explicitly write this out for each data point as -\n",
        "\n",
        "for $x^{(0)}$, `f_wb = w * x[0] + b`\n",
        "\n",
        "for $x^{(1)}$, `f_wb = w * x[1] + b`\n",
        "\n",
        "For a large number of data points, this can get unwieldy and repetitive. So instead, you can calculate the function output in a `for` loop as shown in the `compute_model_output` function below.\n",
        "> **Note**: The argument description `(ndarray (m,))` describes a Numpy n-dimensional array of shape (m,). `(scalar)` describes an argument without dimensions, just a magnitude.  \n",
        "> **Note**: `np.zero(n)` will return a one-dimensional numpy array with $n$ entries   \n"
      ]
    },
    {
      "cell_type": "code",
      "execution_count": null,
      "id": "1a522a7f",
      "metadata": {
        "id": "1a522a7f"
      },
      "outputs": [],
      "source": [
        "def compute_model_output(x, w, b):\n",
        "    \"\"\"\n",
        "    Computes the prediction of a linear model\n",
        "    Args:\n",
        "      x (ndarray (m,)): Data, m examples\n",
        "      w,b (scalar)    : model parameters\n",
        "    Returns\n",
        "      f_wb (ndarray (m,)): model prediction\n",
        "    \"\"\"\n",
        "    m = x.shape[0]\n",
        "    f_wb = np.zeros(m)\n",
        "    for i in range(m):\n",
        "        f_wb[i] = w * x[i] + b\n",
        "\n",
        "    return f_wb"
      ]
    },
    {
      "cell_type": "markdown",
      "id": "8fb33812",
      "metadata": {
        "id": "8fb33812"
      },
      "source": [
        "Now let's call the `compute_model_output` function and plot the output.."
      ]
    },
    {
      "cell_type": "code",
      "execution_count": null,
      "id": "27ca9e6c",
      "metadata": {
        "id": "27ca9e6c"
      },
      "outputs": [],
      "source": [
        "tmp_f_wb = compute_model_output(x_train, w, b,)\n",
        "\n",
        "# Plot our model prediction\n",
        "plt.plot(x_train, tmp_f_wb, c='b',label='Our Prediction')\n",
        "\n",
        "# Plot the data points\n",
        "plt.scatter(x_train, y_train, marker='x', c='r',label='Actual Values')\n",
        "\n",
        "# Set the title\n",
        "plt.title(\"Housing Prices\")\n",
        "# Set the y-axis label\n",
        "plt.ylabel('Price (in 1000s of dollars)')\n",
        "# Set the x-axis label\n",
        "plt.xlabel('Size (1000 sqft)')\n",
        "plt.legend()\n",
        "plt.show()"
      ]
    },
    {
      "cell_type": "markdown",
      "id": "75e193b8",
      "metadata": {
        "id": "75e193b8"
      },
      "source": [
        "As you can see, setting $w = 100$ and $b = 100$ does *not* result in a line that fits our data.\n",
        "\n",
        "### Challenge\n",
        "Try experimenting with different values of $w$ and $b$. What should the values be for a line that fits our data?\n",
        "\n",
        "#### Tip:\n",
        "You can use your mouse to click on the green \"Hints\" below to reveal some hints for choosing b and w."
      ]
    },
    {
      "cell_type": "markdown",
      "id": "539bd06f",
      "metadata": {
        "id": "539bd06f"
      },
      "source": [
        "<details>\n",
        "<summary>\n",
        "    <font size='3', color='darkgreen'><b>Hints</b></font>\n",
        "</summary>\n",
        "    <p>\n",
        "    <ul>\n",
        "        <li>Try $w = 200$ and $b = 100$ </li>\n",
        "    </ul>\n",
        "    </p>"
      ]
    },
    {
      "cell_type": "markdown",
      "id": "23ebe4c7",
      "metadata": {
        "id": "23ebe4c7"
      },
      "source": [
        "### Prediction\n",
        "Now that we have a model, we can use it to make our original prediction. Let's predict the price of a house with 1200 sqft. Since the units of $x$ are in 1000's of sqft, $x$ is 1.2.\n"
      ]
    },
    {
      "cell_type": "code",
      "execution_count": null,
      "id": "ce08365f",
      "metadata": {
        "id": "ce08365f"
      },
      "outputs": [],
      "source": [
        "w = 200\n",
        "b = 100\n",
        "x_i = 1.2\n",
        "cost_1200sqft = w * x_i + b\n",
        "\n",
        "print(f\"${cost_1200sqft:.0f} thousand dollars\")"
      ]
    },
    {
      "cell_type": "markdown",
      "id": "d37c4dbd",
      "metadata": {
        "id": "d37c4dbd"
      },
      "source": [
        "# Congratulations!\n",
        "In this lab you have learned:\n",
        " - Linear regression builds a model which establishes a relationship between features and targets\n",
        "     - In the example above, the feature was house size and the target was house price\n",
        "     - for simple linear regression, the model has two parameters $w$ and $b$ whose values are 'fit' using *training data*.\n",
        "     - once a model's parameters have been determined, the model can be used to make predictions on novel data."
      ]
    }
  ],
  "metadata": {
    "kernelspec": {
      "display_name": "Python 3",
      "language": "python",
      "name": "python3"
    },
    "language_info": {
      "codemirror_mode": {
        "name": "ipython",
        "version": 3
      },
      "file_extension": ".py",
      "mimetype": "text/x-python",
      "name": "python",
      "nbconvert_exporter": "python",
      "pygments_lexer": "ipython3",
      "version": "3.7.6"
    },
    "colab": {
      "provenance": [],
      "include_colab_link": true
    }
  },
  "nbformat": 4,
  "nbformat_minor": 5
}